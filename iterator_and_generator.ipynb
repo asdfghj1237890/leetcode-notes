{
 "cells": [
  {
   "cell_type": "markdown",
   "id": "50ef157d",
   "metadata": {},
   "source": [
    "Skills:\n",
    "- __iter__ method can get iterator from iterable object -> itern(n)\n",
    "- __next__ method can return a value from iterator -> next(iterator)\n",
    "- when a stopIteration happens, the iteration will be stoppped."
   ]
  },
  {
   "cell_type": "markdown",
   "id": "9098ae78",
   "metadata": {},
   "source": [
    "## Exercise 46  Custom Iterable Container\n",
    "\n",
    "Video: https://youtu.be/8p5CMpWh1KM"
   ]
  },
  {
   "cell_type": "markdown",
   "id": "bd5cb9ee",
   "metadata": {},
   "source": [
    "Skills:\n",
    "- make iterator as a seperate class would be a better idea, to make sure everytime you go through them, there would have a new iterator."
   ]
  },
  {
   "cell_type": "code",
   "execution_count": null,
   "id": "e7acee24",
   "metadata": {},
   "outputs": [],
   "source": [
    "class MyEnumerate:\n",
    "    def __init__(self, data):\n",
    "        self.data = data\n",
    "        self.index = 0\n",
    "    \n",
    "    def __iter__(self):\n",
    "        return self\n",
    "    \n",
    "    def __next__(self):\n",
    "        if self.index >= len(self.data):\n",
    "            raise StopIteration\n",
    "        value = (self.index, self.data[self.index])\n",
    "        self.index += 1\n",
    "        return value\n",
    "\n",
    "myEnum = MyEnumerate('abcde')\n",
    "for index, letter in myEnum:\n",
    "    print(f'{index} -> {letter}')"
   ]
  },
  {
   "cell_type": "markdown",
   "id": "9f2d4d3c",
   "metadata": {},
   "source": [
    "## Exercise 47  Cycle Iterator\n",
    "\n",
    "Video: https://youtu.be/4GLb_bYC9wA"
   ]
  },
  {
   "cell_type": "markdown",
   "id": "010093e7",
   "metadata": {},
   "source": [
    "Skills:\n",
    "- as a easy way, you could also use @dataclass"
   ]
  },
  {
   "cell_type": "code",
   "execution_count": null,
   "id": "83ab6c2e",
   "metadata": {},
   "outputs": [],
   "source": [
    "class CycleIterator():\n",
    "    def __init__(self, data, max_times):\n",
    "        self.data = data\n",
    "        self.max_times = max_times\n",
    "        self.index = 0\n",
    "\n",
    "    def __next__(self):\n",
    "        if self.index >= self.max_times:\n",
    "            raise StopIteration\n",
    "        value = self.data[self.index % len(self.data)]\n",
    "        self.index += 1\n",
    "        return value\n",
    "\n",
    "class CycleList():\n",
    "    def __init__(self, data, max_times):\n",
    "        self.data = data\n",
    "        self.max_times = max_times\n",
    "\n",
    "    def __iter__(self):\n",
    "        return CycleIterator(self.data, self.max_times)\n",
    "\n",
    "clist = CycleList(['a', 'b', 'c'], 5)\n",
    "for c in clist:\n",
    "    print(c)"
   ]
  },
  {
   "cell_type": "markdown",
   "id": "d83b9320",
   "metadata": {},
   "source": [
    "## Exercise 48  File Word Generator"
   ]
  },
  {
   "cell_type": "markdown",
   "id": "c59f2284",
   "metadata": {},
   "source": [
    "Skills:\n",
    "- if your usage of iterator is not much, you can write as generator to have a cleaner code.\n",
    "- yield is used in generator, return value and it keeps in memory till the next call of it. it will continue from the location it last executed, untill the iteration is done."
   ]
  },
  {
   "cell_type": "code",
   "execution_count": null,
   "id": "15ba6004",
   "metadata": {},
   "outputs": [],
   "source": [
    "def word_generator(filename, max_words):\n",
    "    index = 0\n",
    "    with open(filename, 'r') as file:\n",
    "        for line in file:\n",
    "            for word in line.split():\n",
    "                if index >= max_words:\n",
    "                    return\n",
    "                yield word.replace('.', '')\n",
    "                index += 1\n",
    "\n",
    "ten_words = word_generator(r'.\\data\\text2.txt', 10)\n",
    "\n",
    "for word in ten_words:\n",
    "    print(word)"
   ]
  },
  {
   "cell_type": "markdown",
   "id": "daf391bb",
   "metadata": {},
   "source": [
    "## Exercise 49  Generator Expressions"
   ]
  },
  {
   "cell_type": "markdown",
   "id": "eeb8a7d8",
   "metadata": {},
   "source": [
    "Skills:\n",
    "- simple generator:\n",
    "    - ('value or equation' for 'value' in 'container' if 'condition')"
   ]
  },
  {
   "cell_type": "code",
   "execution_count": null,
   "id": "6f1e01d0",
   "metadata": {},
   "outputs": [],
   "source": [
    "def num_generator(num):\n",
    "    return (int(digit) for digit in str(num) if digit.isnumeric())\n",
    "\n",
    "numbers = num_generator(3.14159)\n",
    "\n",
    "for num in numbers:\n",
    "    print(num)"
   ]
  },
  {
   "cell_type": "markdown",
   "id": "afdb38de",
   "metadata": {},
   "source": [
    "## Exercise 50  A generator that can calculate elapsed time\n",
    "\n",
    "Video: https://youtu.be/qof3fxYBn8U"
   ]
  },
  {
   "cell_type": "markdown",
   "id": "9a606cc6",
   "metadata": {},
   "source": [
    "Skills:\n",
    "- we do not break or return in elasped_time_gen(), it means before the main program is ended, generator can be used infinitely."
   ]
  },
  {
   "cell_type": "code",
   "execution_count": null,
   "id": "952c7648",
   "metadata": {},
   "outputs": [],
   "source": [
    "import time, random\n",
    "\n",
    "def elapsed_time_gen():\n",
    "    last_time = time.perf_counter()\n",
    "    while True:\n",
    "        now = time.perf_counter()\n",
    "        yield now - last_time\n",
    "        last_time = now\n",
    "\n",
    "elapsed_time = elapsed_time_gen()\n",
    "\n",
    "for _ in range(5):\n",
    "    time.sleep(random.randint(1, 10) / 10)\n",
    "    print(next(elapsed_time))"
   ]
  }
 ],
 "metadata": {
  "language_info": {
   "name": "python"
  }
 },
 "nbformat": 4,
 "nbformat_minor": 5
}
