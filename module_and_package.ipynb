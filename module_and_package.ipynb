{
 "cells": [
  {
   "cell_type": "markdown",
   "id": "9098ae78",
   "metadata": {},
   "source": [
    "## Exercise 36: Income Tax Calculation Module\n",
    "\n",
    "Video: https://youtu.be/dGwEEiXqIQY"
   ]
  },
  {
   "cell_type": "markdown",
   "id": "d2fe9995",
   "metadata": {},
   "source": [
    "Skills:\n",
    "- Can add ValueError exception when user input wrong type of data\n",
    "    - if not (isinstance(amount, int) or isinstance(amount, float)\n",
    "- Use decimal to calculate is better\n",
    "    - from decimal import Decimal\n",
    "    - 0.2 -> Decimal('0.2')\n",
    "- make it as package\n",
    "    - an independent folder, with an empty __init__.py and the desired py like income_tax.py\n",
    "    - from tax import income_tax\n",
    "    - import tax.income_tax"
   ]
  },
  {
   "cell_type": "code",
   "execution_count": null,
   "id": "e7acee24",
   "metadata": {},
   "outputs": [],
   "source": [
    "```python\n",
    "# The following is the content of the module \\data\\income_tax.py:\n",
    "\n",
    "TAX_RATE = {\n",
    "    0: 0.1,\n",
    "    10000: 0.2,\n",
    "    50000: 0.3,\n",
    "    100000: 0.4,\n",
    "    500000: 0.5\n",
    "    }\n",
    "\n",
    "def find_tax_rage(amount):\n",
    "    result = 0.0\n",
    "    for income, rate in TAX_RATE.items():\n",
    "        if amount >= income:\n",
    "            result = rate\n",
    "    return result\n",
    "\n",
    "def calculate_tax(amount):\n",
    "    return amount * find_tax_rage(amount)\n",
    "```"
   ]
  },
  {
   "cell_type": "code",
   "execution_count": null,
   "id": "0dad7c7a",
   "metadata": {},
   "outputs": [],
   "source": [
    "# Import the module from the \\data directory\n",
    "\n",
    "import sys\n",
    "sys.path.append(r'.\\data')\n",
    "\n",
    "# Main program\n",
    "\n",
    "from income_tax import calculate_tax\n",
    "\n",
    "print(calculate_tax(77000))"
   ]
  },
  {
   "cell_type": "markdown",
   "id": "ef3ef580",
   "metadata": {},
   "source": [
    "## Exercise 37: Function Menu Module\n",
    " \n",
    "Video: https://youtu.be/Xe-HKd32DtY"
   ]
  },
  {
   "cell_type": "code",
   "execution_count": null,
   "id": "2331de93",
   "metadata": {},
   "outputs": [],
   "source": [
    "```python\n",
    "# The following is the content of \\data\\menu.py:\n",
    "\n",
    "def menu(**options):\n",
    "    def menu_selector():\n",
    "        option_string = '/'.join(options)\n",
    "        while True:\n",
    "            choice = input(f'Select an option ({option_string}): ')\n",
    "            if choice in options:\n",
    "                return options[choice]\n",
    "                break\n",
    "            print('Option does not exist!')\n",
    "    return menu_selector\n",
    "```"
   ]
  },
  {
   "cell_type": "code",
   "execution_count": null,
   "id": "ba4dda40",
   "metadata": {},
   "outputs": [],
   "source": [
    "# Import the module from the \\data directory\n",
    "\n",
    "import sys\n",
    "sys.path.append(r'.\\data')\n",
    "\n",
    "# Main program\n",
    "\n",
    "from menu import menu\n",
    "\n",
    "def func_a():\n",
    "    return 'Execute function A'\n",
    "\n",
    "def func_b():\n",
    "    return 'Execute function B'\n",
    "\n",
    "def func_x():\n",
    "    return 'Execute function X'\n",
    "\n",
    "my_menu = menu(a=func_a, b=func_b, x=func_x)\n",
    "\n",
    "func = my_menu()\n",
    "print(func())"
   ]
  }
 ],
 "metadata": {
  "language_info": {
   "name": "python"
  }
 },
 "nbformat": 4,
 "nbformat_minor": 5
}
