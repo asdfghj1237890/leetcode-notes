{
 "cells": [
  {
   "cell_type": "markdown",
   "metadata": {},
   "source": [
    " Skills:\n",
    " - list is allocated extra memory space, new space is allocated when nearly full, and pointer array is redirected\n",
    " - tuple only allocates exactly the space needed based on number of elements\n",
    " - Python isn't supporting overloading (the function which defined later will override the previous one)"
   ]
  },
  {
   "cell_type": "markdown",
   "metadata": {},
   "source": [
    "## Exercise 09 Extract and Combine First and Last Elements from Different Containers\n",
    "\n",
    " Video: https://youtu.be/teBer27fyek"
   ]
  },
  {
   "cell_type": "markdown",
   "metadata": {},
   "source": [
    "Skills:\n",
    "- seq[-1] is getting the last element of the sequence\n",
    "- seq[:1] is getting the first element of the sequence\n",
    "- slicing is getting the same type of the sequence\n",
    "    - like 'abcde'[:1] is 'a'\n",
    "    - like [1, 2, 3, 4, 5][:1] is [1]"
   ]
  },
  {
   "cell_type": "code",
   "execution_count": null,
   "metadata": {},
   "outputs": [],
   "source": [
    "def first_last(seq):\n",
    "    return seq[:1] + seq[-1:]\n",
    "\n",
    "print(first_last('abcde'))\n",
    "print(first_last([1, 2, 3, 4, 5]))"
   ]
  },
  {
   "cell_type": "markdown",
   "metadata": {},
   "source": [
    "## Exercise 10 Universal Sum Function\n",
    "\n",
    "Video: https://youtu.be/dGSrJzQHiqc"
   ]
  },
  {
   "cell_type": "markdown",
   "metadata": {},
   "source": [
    "Skills:\n",
    "- can directly use container itself as the condition to check if it's empty\n",
    "- if we wanna to combine the dicts, we can use ** to unpack the dicts or update the dicts\n",
    "    - like {**{'a': 1}, **{'b': 2}} is {'a': 1, 'b': 2}\n",
    "    - like {'a': 1}.update({'b': 2}) is {'a': 1, 'b': 2}\n",
    "    - but the update method will override the original dict, if there are same keys, the value will be the last one\n",
    "- in Python 3.9, there is a new method called `|` to combine the dicts\n",
    "    - like {'a': 1} | {'b': 2} is {'a': 1, 'b': 2}\n",
    "    - like d1 |= d2 is d1.update(d2)\n",
    "- we can check isinstance(item, dict) to check if the item is a dict in mysum function and use the '|' to combine the dicts"
   ]
  },
  {
   "cell_type": "code",
   "execution_count": null,
   "metadata": {},
   "outputs": [],
   "source": [
    "def mysum(*items):\n",
    "    if not items:\n",
    "        return items\n",
    "    output = items[0]\n",
    "    for item in items[1:]:\n",
    "        output += item\n",
    "    return output\n",
    "\n",
    "print(mysum())\n",
    "print(mysum(10, 20, 30, 40))\n",
    "print(mysum('abc', 'd', 'e'))\n",
    "print(mysum([10, 20, 30], [40, 50], [60]))"
   ]
  },
  {
   "cell_type": "markdown",
   "metadata": {},
   "source": [
    "## Exercise 11 Sort Contact Information by Name\n",
    "\n",
    "Video: https://youtu.be/nFq5kbxLkYY"
   ]
  },
  {
   "cell_type": "markdown",
   "metadata": {},
   "source": [
    "Skills:\n",
    "- as the question is asking to sort the last name first first, so while using sorted, we should use the key to force the sorted to sort by the last name first\n",
    "    - d[1], d[0]\n",
    "- use lambda to define the key function\n",
    "    - key function = lambda parameter: equation\n",
    "    - sqrt = lambda x: x**2\n",
    "    - sqrt(2) is 4\n",
    "- you can also use the operator.itemgetter to get the item from the tuple\n",
    "    - operator.itemgetter(1, 0) is getting the second and first item from the tuple\n",
    "    - sorted(people, key=operator.itemgetter(1, 0)) is sorting the people by the last name first and then by the first name"
   ]
  },
  {
   "cell_type": "code",
   "execution_count": null,
   "metadata": {},
   "outputs": [],
   "source": [
    "people = [\n",
    "    ('Joe', 'Biden', 'president@usa.gov'),\n",
    "    ('Emmanuel', 'Macron', 'president@france.gov'),\n",
    "    ('Justin', 'Trudeau', 'primeminister@canada.gov'),\n",
    "    ('Angela', 'Merkel', 'primeminister@germany.gov'),\n",
    "    ('Jacinda', 'Ardern', 'primeminister@newzealand.gov')\n",
    "    ]\n",
    "\n",
    "for person in sorted(people, key=lambda d: (d[1], d[0])):\n",
    "    print(f'{person[1]}, {person[0]}: {person[2]}')"
   ]
  },
  {
   "cell_type": "markdown",
   "metadata": {},
   "source": [
    "## Exercise 12 Output Container Data with Formatting\n",
    "\n",
    "Video: https://youtu.be/powU_XZuylU"
   ]
  },
  {
   "cell_type": "markdown",
   "metadata": {},
   "source": [
    "Skills:\n",
    "- while using f-string, we can also specify the width of the string to format the output\n",
    "    - like f'{last:12s}' is formatting the last name to 12 characters wide\n",
    "    - like f'{first:10s}' is formatting the first name to 10 characters wide\n",
    "    - like f'{grade:.1f}' is formatting the grade to 1 decimal place\n",
    "- we can also use the '\\n' to join the output to make the strings as every new lines\n"
   ]
  },
  {
   "cell_type": "code",
   "execution_count": null,
   "metadata": {},
   "outputs": [],
   "source": [
    "import operator\n",
    "\n",
    "def sorted_grades(grades):\n",
    "    grades.sort(key=operator.itemgetter(2), reverse=True)\n",
    "    output = []\n",
    "    for first, last, grade in grades:\n",
    "        output.append(f'{last:12s}{first:10s}{grade:.1f}')\n",
    "    return '\\n'.join(output)\n",
    "\n",
    "grades = [\n",
    "    ('Alice', 'Wooding', 89),\n",
    "    ('Bob', 'Johnson', 86),\n",
    "    ('Cindy', 'Letterman', 93),\n",
    "    ('David', 'Moor', 86),\n",
    "    ('Eddie', 'Williams', 91)\n",
    "    ]\n",
    "\n",
    "print(sorted_grades(grades))"
   ]
  },
  {
   "cell_type": "markdown",
   "metadata": {},
   "source": [
    "## Exercise 13 Find Most Repeated Letter in a Word\n",
    "\n",
    "Video: https://youtu.be/J48Am5fa27w"
   ]
  },
  {
   "cell_type": "markdown",
   "metadata": {},
   "source": [
    "Skills:\n",
    "- use set to get the unique letters in the word\n",
    "    - set('independence') is {'c', 'd', 'e', 'i', 'n', 'p'}\n",
    "- then we can use count() with list / str type to get the count of the letter\n",
    "- we can also use Counter: from collection import Counter\n",
    "    - Counter('independence') is {'c': 1, 'd': 1, 'e': 4, 'i': 2, 'n': 2, 'p': 1}\n",
    "    - Counter('independence').most_common(1) is [('e', 4)]\n",
    "        - beware tuple in list\n"
   ]
  },
  {
   "cell_type": "code",
   "execution_count": null,
   "metadata": {},
   "outputs": [],
   "source": [
    "import operator\n",
    "\n",
    "def most_repeated_letter(word):\n",
    "    letters = list(set(word))\n",
    "    letters_count = []\n",
    "    for letter in letters:\n",
    "        letters_count.append((letter, word.count(letter)))\n",
    "    result = sorted(letters_count, key=operator.itemgetter(1))[-1]\n",
    "    print(f'{result[0]} 重複了 {result[1]} 次')\n",
    "\n",
    "most_repeated_letter('independence')"
   ]
  }
 ],
 "metadata": {
  "language_info": {
   "name": "python"
  }
 },
 "nbformat": 4,
 "nbformat_minor": 2
}
