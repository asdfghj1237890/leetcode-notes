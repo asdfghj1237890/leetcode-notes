{
 "cells": [
  {
   "cell_type": "markdown",
   "metadata": {},
   "source": [
    "## Exercise 05: Pig Latin\n",
    "\n",
    "Video: https://youtu.be/v4FxKzrBmNY"
   ]
  },
  {
   "cell_type": "markdown",
   "metadata": {},
   "source": [
    "Skills:\n",
    "- string slicing: word[start:end(not include)]\n",
    "- string is immutable, when you are modifying a string, you are creating a new string\n",
    "- format string: f'{word}way'"
   ]
  },
  {
   "cell_type": "code",
   "execution_count": null,
   "metadata": {},
   "outputs": [],
   "source": [
    "def pig_latin(word):\n",
    "    if word[0] in 'aeiou':\n",
    "        return word + 'way'\n",
    "    else:\n",
    "        return word[1:] + word[0] + 'ay'\n",
    "\n",
    "print(pig_latin('python'))"
   ]
  },
  {
   "cell_type": "markdown",
   "metadata": {},
   "source": [
    "## Exercise 06: Pig Latin - Sentence Translator\n",
    "\n",
    "Video: https://youtu.be/BwN0MegOAsY"
   ]
  },
  {
   "cell_type": "markdown",
   "metadata": {},
   "source": [
    "Skills:\n",
    "- split string to a list: split()\n",
    "- join list to a string: ' '.join(['a', 'b', 'c']), ' 'as a separator"
   ]
  },
  {
   "cell_type": "code",
   "execution_count": null,
   "metadata": {},
   "outputs": [],
   "source": [
    "def pl_sentence(sentence):\n",
    "    output = []\n",
    "    for word in sentence.lower().split():\n",
    "        if word[0] in 'aeiou':\n",
    "            output.append(f'{word}way')\n",
    "        else:\n",
    "            output.append(f'{word[1:]}{word[0]}ay')\n",
    "    return ' '.join(output)\n",
    "\n",
    "print(pl_sentence('this is a test'))"
   ]
  },
  {
   "cell_type": "markdown",
   "metadata": {},
   "source": [
    "## Exercise 07: ROT13 Encryption"
   ]
  },
  {
   "cell_type": "markdown",
   "metadata": {},
   "source": [
    "Skills:\n",
    "- chr() : convert ASCII value to character\n",
    "- codecs.encode(word, 'rot13') can also be used to encode to rot13, just import codecs\n",
    "- should aware of using string += in the solution, as each time you +=, you are creating a new string, which is not efficient, use lots memory"
   ]
  },
  {
   "cell_type": "code",
   "execution_count": null,
   "metadata": {},
   "outputs": [],
   "source": [
    "def rot13(word):\n",
    "    output = []\n",
    "    for c in word.lower():\n",
    "        new_ord = ord(c) + 13\n",
    "        if new_ord > ord('z'):\n",
    "            new_ord -= 26\n",
    "        output.append(chr(new_ord))\n",
    "    return ''.join(output)\n",
    "\n",
    "print(rot13('apple'))"
   ]
  },
  {
   "cell_type": "markdown",
   "metadata": {},
   "source": [
    "## Exercise 08: Character Sorting\n",
    "\n",
    "Video: https://youtu.be/wBn9m8wad0Y"
   ]
  },
  {
   "cell_type": "markdown",
   "metadata": {},
   "source": [
    " Skills:\n",
    " - sort() : sort a list in place, change the original list\n",
    " - sorted() : sort a list and return a new list\n",
    " - when there are uppercase letters, you can add key=str.lower in sorted()to sort by lowercase\n",
    "     - sorted(s, key=str.lower)\n"
   ]
  },
  {
   "cell_type": "code",
   "execution_count": null,
   "metadata": {},
   "outputs": [],
   "source": [
    "def strsort(s):\n",
    "    return ''.join(sorted(s))\n",
    "\n",
    "print(strsort('python'))"
   ]
  }
 ],
 "metadata": {
  "language_info": {
   "name": "python"
  }
 },
 "nbformat": 4,
 "nbformat_minor": 2
}
