{
 "cells": [
  {
   "cell_type": "markdown",
   "metadata": {},
   "source": [
    "## Exercise 14: Restaurant Ordering System\n",
    "\n",
    "Video: https://youtu.be/wd8YQTFHLzM"
   ]
  },
  {
   "cell_type": "markdown",
   "metadata": {},
   "source": [
    "Skills:\n",
    "- Searching in dict is O(1), dict is a hash table. the key must be hashable.\n",
    "- After Python 3.6, dict is ordered.\n",
    "- use 'in' to check if a key exists in a dict.\n"
   ]
  },
  {
   "cell_type": "code",
   "execution_count": null,
   "metadata": {},
   "outputs": [],
   "source": [
    "menu = {\n",
    "    'sandwich': 50,\n",
    "    'coffee': 40,\n",
    "    'salad': 30\n",
    "    }\n",
    "\n",
    "def order_meal():\n",
    "    total = 0\n",
    "    while order := input('Please order: '):\n",
    "        if order in menu:\n",
    "            price = menu[order]\n",
    "            total += price\n",
    "            print(f'{order} ${price}, total amount ${total}')\n",
    "        else:\n",
    "            print(f'Sorry! We do not serve {order}')\n",
    "    print(f'Your bill is ${total}')\n",
    "\n",
    "order_meal()"
   ]
  },
  {
   "cell_type": "markdown",
   "metadata": {},
   "source": [
    "## Exercise 15: Rainfall Database\n",
    "\n",
    "Video: https://youtu.be/plARvm3RQXM"
   ]
  },
  {
   "cell_type": "markdown",
   "metadata": {},
   "source": [
    "Skills:\n",
    "- use dict.get() to search, will not return error, instead a None if there is no correspondent key\n",
    "    - also can modify the return value in its 2nd arg: dict.get('abc', 'Error')\n",
    "- dict.items() is a dict_items container, with key and value\n",
    "- use collections.defaultdict can replace dict.get()\n",
    "    - data = defaultdict(int, {'a':1, 'b':2}) -> define a defaultdict, and define the value in this dict is int\n",
    "    - if accessing the key which is not exist, it will create a key for you with default value 0\n",
    "    - data['d'] += 5, would create key and assign value 0+5 with it"
   ]
  },
  {
   "cell_type": "code",
   "execution_count": null,
   "metadata": {},
   "outputs": [],
   "source": [
    "def record_rainfall():\n",
    "    rainfall = {}\n",
    "    while True:\n",
    "        city_name = input('Enter city: ')\n",
    "        if not city_name:\n",
    "            break\n",
    "        rain_mm = input('Enter rainfall (mm): ')\n",
    "        if not rain_mm:\n",
    "            rain_mm = 0\n",
    " \n",
    "        rainfall[city_name] = rainfall.get(city_name, 0) + int(rain_mm)\n",
    " \n",
    "    for city, rain in rainfall.items():\n",
    "        print(f'{city}: {rain} mm')\n",
    "\n",
    "record_rainfall()"
   ]
  },
  {
   "cell_type": "markdown",
   "metadata": {},
   "source": [
    "## Exercise 16: How Many Unique Numbers?\n",
    "\n",
    "Video: https://youtu.be/iV_K14vT_ZQ"
   ]
  },
  {
   "cell_type": "markdown",
   "metadata": {},
   "source": [
    "Skills:\n",
    "- set() can get a set of unique elements"
   ]
  },
  {
   "cell_type": "code",
   "execution_count": null,
   "metadata": {},
   "outputs": [],
   "source": [
    "def unique_num_len(numbers):\n",
    "    return len(set(numbers))\n",
    "\n",
    "numbers = [1, 2, 3, 1, 2, 3, 4, 1, 2]\n",
    "print(unique_num_len(numbers))"
   ]
  },
  {
   "cell_type": "markdown",
   "metadata": {},
   "source": [
    "## Exercise 17: Compare Two Dictionaries\n",
    "\n",
    "Video: https://youtu.be/eQnHwmXlPq4"
   ]
  },
  {
   "cell_type": "markdown",
   "metadata": {},
   "source": [
    "Skills:\n",
    "- dict.key() and dict.items() can use | & - ^, same as set\n"
   ]
  },
  {
   "cell_type": "code",
   "execution_count": null,
   "metadata": {},
   "outputs": [],
   "source": [
    "def dict_diff(first, second):\n",
    "    output = {}\n",
    "    all_keys = sorted(first.keys() | second.keys())\n",
    " \n",
    "    for key in all_keys:\n",
    "        if first.get(key) != second.get(key):\n",
    "            output[key] = [first.get(key), second.get(key)]\n",
    "    return output\n",
    "\n",
    "d1 = {'a': 1, 'b': 2, 'c': 3, 'd': 5}\n",
    "d2 = {'a': 1, 'b': 2, 'd': 4, 'e': 6}\n",
    "print(dict_diff(d1, d2))"
   ]
  }
 ],
 "metadata": {
  "language_info": {
   "name": "python"
  }
 },
 "nbformat": 4,
 "nbformat_minor": 2
}
