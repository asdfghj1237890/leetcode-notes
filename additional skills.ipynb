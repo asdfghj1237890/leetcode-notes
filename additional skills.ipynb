{
 "cells": [
  {
   "cell_type": "markdown",
   "id": "9098ae78",
   "metadata": {},
   "source": [
    "## Appendix A-1"
   ]
  },
  {
   "cell_type": "markdown",
   "id": "d2fe9995",
   "metadata": {},
   "source": [
    "Skills:\n",
    "- if you wanna list all combinations, you can use combinations in itertools\n",
    "    - from itertools import combinations"
   ]
  },
  {
   "cell_type": "code",
   "execution_count": null,
   "id": "e7acee24",
   "metadata": {},
   "outputs": [],
   "source": [
    "def sum_of_two(data, k):\n",
    "    for a_index, a_value in enumerate(data):\n",
    "        for b_index, b_value in enumerate(data):\n",
    "            if a_index != b_index and a_value + b_value == k:\n",
    "                return [a_index, b_index]\n",
    "    #from itertools import combinations\n",
    "    #for a, b in combinations(enumerate(data), 2):\n",
    "    #    if a[1] + b[1] == k:\n",
    "    #        return [a[0], b[0]]\n",
    "    return []\n",
    "\n",
    "print(sum_of_two([2, 7, 11, 15], 9))"
   ]
  },
  {
   "cell_type": "markdown",
   "id": "233906fd",
   "metadata": {},
   "source": [
    "## Appendix A-2"
   ]
  },
  {
   "cell_type": "markdown",
   "id": "4df5473d",
   "metadata": {},
   "source": [
    "Skills:\n",
    "- collection.Counter\n",
    "    - Counter.most_common(1)[0][0], 1st 0 as element, 2nd 0 as the most common value"
   ]
  },
  {
   "cell_type": "code",
   "execution_count": null,
   "id": "163d88fe",
   "metadata": {},
   "outputs": [],
   "source": [
    "def find_majority_num(data):\n",
    "    counter = [(data.count(i), i) for i in set(data)]\n",
    "    return sorted(counter, reverse=True)[0][1]\n",
    "    \"\"\"\n",
    "    import statistics\n",
    "    return statistics.mode(data)\n",
    "    \"\"\"\n",
    "\n",
    "print(find_majority_num([1, 2, 2, 3, 2, 3, 1]))"
   ]
  },
  {
   "cell_type": "markdown",
   "id": "259da395",
   "metadata": {},
   "source": [
    "## Appendix A-3"
   ]
  },
  {
   "cell_type": "markdown",
   "id": "5177bdde",
   "metadata": {},
   "source": [
    "Skills:\n",
    "- Subtracting sets and then converting to a list"
   ]
  },
  {
   "cell_type": "code",
   "execution_count": null,
   "id": "4b237afb",
   "metadata": {},
   "outputs": [],
   "source": [
    "def find_missing_nums(data):\n",
    "    all_data = set(range(1, len(data) + 1))\n",
    "    return list(all_data - set(data))\n",
    "\n",
    "print(find_missing_nums([1, 2, 8, 5, 1, 6, 4, 9, 5]))"
   ]
  },
  {
   "cell_type": "markdown",
   "id": "f7ce0dca",
   "metadata": {},
   "source": [
    "## Appendix A-4"
   ]
  },
  {
   "cell_type": "markdown",
   "id": "8580ffcc",
   "metadata": {},
   "source": [
    "Skills:\n",
    "- use the method of python list\n",
    "- Directly inherit from list: class Stack(list)"
   ]
  },
  {
   "cell_type": "code",
   "execution_count": null,
   "id": "63be4869",
   "metadata": {},
   "outputs": [],
   "source": [
    "class Stack():\n",
    "    def __init__(this):\n",
    "        this.data = []\n",
    " \n",
    "    def push(this, x):\n",
    "        this.data.append(x)\n",
    " \n",
    "    def pop(this):\n",
    "        if this.data:\n",
    "            return this.data.pop()\n",
    " \n",
    "    def top(this):\n",
    "        return this.data[-1]\n",
    " \n",
    "    def min_num(this):\n",
    "        return min(this.data)\n",
    "\n",
    "    def max_num(this):\n",
    "        return max(this.data)\n",
    "\n",
    "stack = Stack()\n",
    "stack.push(3)\n",
    "stack.push(2)\n",
    "stack.push(8)\n",
    "stack.push(6)\n",
    "stack.push(5)\n",
    "print(stack.pop())\n",
    "print(stack.top())\n",
    "print(stack.min_num())\n",
    "print(stack.max_num())"
   ]
  }
 ],
 "metadata": {
  "language_info": {
   "name": "python"
  }
 },
 "nbformat": 4,
 "nbformat_minor": 5
}
