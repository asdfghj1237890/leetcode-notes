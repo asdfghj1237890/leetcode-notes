{
 "cells": [
  {
   "cell_type": "markdown",
   "id": "9098ae78",
   "metadata": {},
   "source": [
    "## Appendix A-1"
   ]
  },
  {
   "cell_type": "markdown",
   "id": "d2fe9995",
   "metadata": {},
   "source": [
    "Skills:\n",
    "- if you wanna list all combinations, you can use combinations in itertools\n",
    "    - from itertools import combinations"
   ]
  },
  {
   "cell_type": "code",
   "execution_count": null,
   "id": "e7acee24",
   "metadata": {},
   "outputs": [],
   "source": [
    "def sum_of_two(data, k):\n",
    "    for a_index, a_value in enumerate(data):\n",
    "        for b_index, b_value in enumerate(data):\n",
    "            if a_index != b_index and a_value + b_value == k:\n",
    "                return [a_index, b_index]\n",
    "    #from itertools import combinations\n",
    "    #for a, b in combinations(enumerate(data), 2):\n",
    "    #    if a[1] + b[1] == k:\n",
    "    #        return [a[0], b[0]]\n",
    "    return []\n",
    "\n",
    "print(sum_of_two([2, 7, 11, 15], 9))"
   ]
  },
  {
   "cell_type": "markdown",
   "id": "233906fd",
   "metadata": {},
   "source": [
    "## Appendix A-2"
   ]
  },
  {
   "cell_type": "markdown",
   "id": "4df5473d",
   "metadata": {},
   "source": [
    "Skills:\n",
    "- collection.Counter\n",
    "    - Counter.most_common(1)[0][0], 1st 0 as element, 2nd 0 as the most common value"
   ]
  },
  {
   "cell_type": "code",
   "execution_count": null,
   "id": "163d88fe",
   "metadata": {},
   "outputs": [],
   "source": [
    "def find_majority_num(data):\n",
    "    counter = [(data.count(i), i) for i in set(data)]\n",
    "    return sorted(counter, reverse=True)[0][1]\n",
    "    \"\"\"\n",
    "    import statistics\n",
    "    return statistics.mode(data)\n",
    "    \"\"\"\n",
    "\n",
    "print(find_majority_num([1, 2, 2, 3, 2, 3, 1]))"
   ]
  },
  {
   "cell_type": "markdown",
   "id": "259da395",
   "metadata": {},
   "source": [
    "## Appendix A-3"
   ]
  },
  {
   "cell_type": "markdown",
   "id": "5177bdde",
   "metadata": {},
   "source": [
    "Skills:\n",
    "- Subtracting sets and then converting to a list"
   ]
  },
  {
   "cell_type": "code",
   "execution_count": null,
   "id": "4b237afb",
   "metadata": {},
   "outputs": [],
   "source": [
    "def find_missing_nums(data):\n",
    "    all_data = set(range(1, len(data) + 1))\n",
    "    return list(all_data - set(data))\n",
    "\n",
    "print(find_missing_nums([1, 2, 8, 5, 1, 6, 4, 9, 5]))"
   ]
  },
  {
   "cell_type": "markdown",
   "id": "f7ce0dca",
   "metadata": {},
   "source": [
    "## Appendix A-4"
   ]
  },
  {
   "cell_type": "markdown",
   "id": "8580ffcc",
   "metadata": {},
   "source": [
    "Skills:\n",
    "- use the method of python list\n",
    "- Directly inherit from list: class Stack(list)"
   ]
  },
  {
   "cell_type": "code",
   "execution_count": null,
   "id": "63be4869",
   "metadata": {},
   "outputs": [],
   "source": [
    "class Stack():\n",
    "    def __init__(this):\n",
    "        this.data = []\n",
    " \n",
    "    def push(this, x):\n",
    "        this.data.append(x)\n",
    " \n",
    "    def pop(this):\n",
    "        if this.data:\n",
    "            return this.data.pop()\n",
    " \n",
    "    def top(this):\n",
    "        return this.data[-1]\n",
    " \n",
    "    def min_num(this):\n",
    "        return min(this.data)\n",
    "\n",
    "    def max_num(this):\n",
    "        return max(this.data)\n",
    "\n",
    "stack = Stack()\n",
    "stack.push(3)\n",
    "stack.push(2)\n",
    "stack.push(8)\n",
    "stack.push(6)\n",
    "stack.push(5)\n",
    "print(stack.pop())\n",
    "print(stack.top())\n",
    "print(stack.min_num())\n",
    "print(stack.max_num())"
   ]
  },
  {
   "cell_type": "markdown",
   "id": "6df047d2",
   "metadata": {},
   "source": [
    "## Appendix A-5"
   ]
  },
  {
   "cell_type": "markdown",
   "id": "30d26b23",
   "metadata": {},
   "source": [
    "Skills:\n",
    "- using stack to deal with bracelet in & out\n",
    "- beware failure condition:\n",
    "    - there are left in stack when the exploration is end\n",
    "    - the stack is empty when we want to pop"
   ]
  },
  {
   "cell_type": "code",
   "execution_count": null,
   "id": "2c8f32e8",
   "metadata": {},
   "outputs": [],
   "source": [
    "def are_brackets_valid(s):\n",
    "    brackets = {'(': ')', '[': ']', '{': '}'}\n",
    "    stack = []\n",
    " \n",
    "    for b in s:\n",
    "        if b in brackets:\n",
    "            stack.append(brackets[b])\n",
    "        else:\n",
    "            if not (stack and b == stack.pop()):\n",
    "                return False\n",
    "    return True if not stack else False\n",
    "\n",
    "print(are_brackets_valid('[()]'))"
   ]
  },
  {
   "cell_type": "markdown",
   "id": "5e440d6d",
   "metadata": {},
   "source": [
    "## Appendix A-6"
   ]
  },
  {
   "cell_type": "markdown",
   "id": "3f587e84",
   "metadata": {},
   "source": [
    "Skills:\n",
    "- straight way: delete the 0 when you faced, add one in the end of list"
   ]
  },
  {
   "cell_type": "code",
   "execution_count": null,
   "id": "ba361ca8",
   "metadata": {},
   "outputs": [],
   "source": [
    "def zeroes_to_the_end(data):\n",
    "    for _ in range(data.count(0)):\n",
    "        idx = data.index(0)\n",
    "        data = data[:idx] + data[idx+1:] + data[idx:idx+1]\n",
    "    return data\n",
    "\n",
    "print(zeroes_to_the_end([2, 3, 0, 1, 0, 5]))"
   ]
  },
  {
   "cell_type": "markdown",
   "id": "1db990f9",
   "metadata": {},
   "source": [
    "## Appendix A-7"
   ]
  },
  {
   "cell_type": "markdown",
   "id": "652e89c3",
   "metadata": {},
   "source": [
    "Skills:\n",
    "- use zip to explore multi containers in the same time\n",
    "    - it will end when it finish exploring the shortest container\n",
    "- use * to input all the elements in the list"
   ]
  },
  {
   "cell_type": "code",
   "execution_count": null,
   "id": "2fa5fa8c",
   "metadata": {},
   "outputs": [],
   "source": [
    "def find_common_prefix(strs):\n",
    "    prefix = []\n",
    "    for c in zip(*strs):\n",
    "        if len(set(c)) == 1:\n",
    "            prefix.append(c[0])\n",
    "        else:\n",
    "             break\n",
    "    return ''.join(prefix)\n",
    "\n",
    "print(find_common_prefix(['expensive', 'export', 'experience']))"
   ]
  },
  {
   "cell_type": "markdown",
   "id": "208a0b22",
   "metadata": {},
   "source": [
    "## Appendix A-8"
   ]
  },
  {
   "cell_type": "markdown",
   "id": "31ffb4cf",
   "metadata": {},
   "source": [
    "Skills:\n",
    "- use reversed() + join()\n",
    "- use [::-1]\n",
    "    - list slicing: [start:end(not inclued):step width]\n",
    "    - step width -1 = reverse"
   ]
  },
  {
   "cell_type": "code",
   "execution_count": null,
   "id": "f72cd51d",
   "metadata": {},
   "outputs": [],
   "source": [
    "def reverse_num_digits(x):\n",
    "    answer = int(str(abs(x))[::-1]) * (1 if x >= 0 else -1)\n",
    "    return answer\n",
    "\n",
    "print(reverse_num_digits(-123))"
   ]
  },
  {
   "cell_type": "markdown",
   "id": "990684fc",
   "metadata": {},
   "source": [
    "## Appendix A-9"
   ]
  },
  {
   "cell_type": "markdown",
   "id": "9b8905e9",
   "metadata": {},
   "source": [
    "Skills:\n",
    "- f'{n:08b}' is required for 8 char length, if insufficient will add 0 in the front\n",
    "    - b for binary"
   ]
  },
  {
   "cell_type": "code",
   "execution_count": null,
   "id": "ad9bf4b7",
   "metadata": {},
   "outputs": [],
   "source": [
    "def reverse_binary(n):\n",
    "    binary = f'{n:08b}'\n",
    "    return int(binary[::-1], 2)\n",
    "\n",
    "print(reverse_binary(121))"
   ]
  },
  {
   "cell_type": "markdown",
   "id": "e52d893a",
   "metadata": {},
   "source": [
    "## Appendix A-10"
   ]
  },
  {
   "cell_type": "code",
   "execution_count": null,
   "id": "ea5495c2",
   "metadata": {},
   "outputs": [],
   "source": [
    "def roman_num_to_int(s):\n",
    "    roman = {\n",
    "        'I': 1,\n",
    "        'V': 5,\n",
    "        'X': 10,\n",
    "        'L': 50,\n",
    "        'C': 100,\n",
    "        'D': 500,\n",
    "        'M': 1000,\n",
    "    }\n",
    "    roman_special = {\n",
    "        'IV': -2,\n",
    "        'IX': -2,\n",
    "        'XL': -20,\n",
    "        'XC': -20,\n",
    "        'CD': -200,\n",
    "        'CM': -200,\n",
    "    }\n",
    "    normal_value = sum([roman[c] for c in s if c in roman])\n",
    "    special_value = sum([value for key, value in roman_special.items() if key in s])\n",
    "    return normal_value + special_value\n",
    "\n",
    "print(roman_num_to_int('MMCDXIX'))"
   ]
  }
 ],
 "metadata": {
  "language_info": {
   "name": "python"
  }
 },
 "nbformat": 4,
 "nbformat_minor": 5
}
