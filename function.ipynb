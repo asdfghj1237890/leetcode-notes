{
 "cells": [
  {
   "cell_type": "markdown",
   "metadata": {},
   "source": [
    "## Exercise 25 XML Generator\n",
    "\n",
    "Video: https://youtu.be/cwm-UgM6oC4"
   ]
  },
  {
   "cell_type": "markdown",
   "metadata": {},
   "source": [
    "Skills:\n",
    "- use def xxx(name='World') to set default value\n",
    "    - with the argment, arg with no default value should be before the arg with default value\n",
    "- LEGB\n",
    "    - Local\n",
    "    - Enclosed\n",
    "    - Global\n",
    "    - Built-in\n",
    "- can add global before the variable to change the global variable\n",
    "    - but it's not recommended, because it's hard to debug\n",
    "- can add nonlocal before the variable to change the enclosed variable to change the father function's variable\n",
    "- use **kwargs to accept arbitrary number of keyword arguments\n",
    "    - kwargs is a dictionary\n",
    "    - kwargs is used to accept arbitrary number of keyword arguments"
   ]
  },
  {
   "cell_type": "code",
   "execution_count": null,
   "metadata": {},
   "outputs": [],
   "source": [
    "def myxml(tag, content='', **kwargs):\n",
    "    attrs_list = []\n",
    "    for key, value in kwargs.items():\n",
    "        attrs_list.append(f' {key}=\"{value}\"')\n",
    "    attrs = ''.join(attrs_list)\n",
    "    return f'<{tag}{attrs}>{content}</{tag}>'\n",
    "\n",
    "print(myxml('foo', 'bar', a=1, b=2, c=3))"
   ]
  },
  {
   "cell_type": "markdown",
   "metadata": {},
   "source": [
    "## Exercise 26 Simple Prefix Calculator\n",
    "\n",
    "Video: https://youtu.be/btf2V4oyYaE"
   ]
  },
  {
   "cell_type": "markdown",
   "metadata": {},
   "source": [
    "Skills:\n",
    "- you can put functions in dict\n",
    "- you can use lambda function in it:\n",
    "    - operation = {'+': lambda a, b: a+b}\n",
    "- you can also use  operator:\n",
    "    - operator.add, operator.sub, operator.mul, operator.truediv"
   ]
  },
  {
   "cell_type": "code",
   "execution_count": null,
   "metadata": {},
   "outputs": [],
   "source": [
    "import operator\n",
    "\n",
    "def prefix_cal(to_solve):\n",
    "    operation = {\n",
    "        '+': operator.add,\n",
    "        '-': operator.sub,\n",
    "        '*': operator.mul,\n",
    "        '/': operator.truediv,\n",
    "        }\n",
    "    op, num1, num2 = to_solve.split()\n",
    "    return operation[op](float(num1), float(num2))\n",
    "\n",
    "print(prefix_cal('+ 2 3'))\n",
    "\n",
    "# a longer prefix calculator\n",
    "def prefix_cal(to_solve):\n",
    "    operation = {\n",
    "        '+': operator.add,\n",
    "        '-': operator.sub,\n",
    "        '*': operator.mul,\n",
    "        '/': operator.truediv,\n",
    "        }\n",
    "    \n",
    "    def isnumber(num):\n",
    "        return num.replace('.', '').isnumeric()\n",
    "\n",
    "    items = to_solve.split()\n",
    "    while len(items) > 1: # the last one left is the result\n",
    "        for i in range(len(items) - 2):\n",
    "            # take 3 elements to check whether match a prefix equation\n",
    "            op, n1, n2 = items[i:i+3]\n",
    "            if op in operation and isnumber(n1) and isnumber(n2):\n",
    "                break\n",
    "            # if found, break, calcuate the result and replace it back to original prefix equation to continue the calculation\n",
    "            items = items[:i] + [str(operation[op](float(n1), float(n2)))]+items[i+3:]\n",
    "    return float(items[0])\n",
    "\n",
    "print(prefix_cal('/ * + 2 4 3 + 1 5'))\n"
   ]
  },
  {
   "cell_type": "markdown",
   "metadata": {},
   "source": [
    "## Exercise 27: Custom Password Generator\n",
    "\n",
    "Video: https://youtu.be/S6wIHzRhj8s"
   ]
  },
  {
   "cell_type": "markdown",
   "metadata": {},
   "source": [
    "Skills:\n",
    "- random.choice() can pick elements from list, string, etc.\n"
   ]
  },
  {
   "cell_type": "code",
   "execution_count": null,
   "metadata": {},
   "outputs": [],
   "source": [
    "import random\n",
    "\n",
    "def set_password_source(source):\n",
    "    def password_gen(length): #closure function, will remember 'source'\n",
    "        output = []\n",
    "        for i in range(length):\n",
    "            output.append(random.choice(source))\n",
    "        return ''.join(output)\n",
    "    return password_gen # return password_gen back to set_password_source\n",
    "\n",
    "my_password_gen = set_password_source('0123456789abcdefghij')\n",
    "print(my_password_gen(10))"
   ]
  }
 ],
 "metadata": {
  "language_info": {
   "name": "python"
  }
 },
 "nbformat": 4,
 "nbformat_minor": 2
}
