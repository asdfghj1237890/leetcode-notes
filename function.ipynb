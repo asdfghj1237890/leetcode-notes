{
 "cells": [
  {
   "cell_type": "markdown",
   "metadata": {},
   "source": [
    "## Exercise 25 XML Generator\n",
    "\n",
    "Video: https://youtu.be/cwm-UgM6oC4"
   ]
  },
  {
   "cell_type": "markdown",
   "metadata": {},
   "source": [
    "Skills:\n",
    "- use def xxx(name='World') to set default value\n",
    "    - with the argment, arg with no default value should be before the arg with default value\n",
    "- LEGB\n",
    "    - Local\n",
    "    - Enclosed\n",
    "    - Global\n",
    "    - Built-in\n",
    "- can add global before the variable to change the global variable\n",
    "    - but it's not recommended, because it's hard to debug\n",
    "- can add nonlocal before the variable to change the enclosed variable to change the father function's variable\n",
    "- use **kwargs to accept arbitrary number of keyword arguments\n",
    "    - kwargs is a dictionary\n",
    "    - kwargs is used to accept arbitrary number of keyword arguments"
   ]
  },
  {
   "cell_type": "code",
   "execution_count": null,
   "metadata": {},
   "outputs": [],
   "source": [
    "def myxml(tag, content='', **kwargs):\n",
    "    attrs_list = []\n",
    "    for key, value in kwargs.items():\n",
    "        attrs_list.append(f' {key}=\"{value}\"')\n",
    "    attrs = ''.join(attrs_list)\n",
    "    return f'<{tag}{attrs}>{content}</{tag}>'\n",
    "\n",
    "print(myxml('foo', 'bar', a=1, b=2, c=3))"
   ]
  },
  {
   "cell_type": "markdown",
   "metadata": {},
   "source": [
    "## Exercise 26 Simple Prefix Calculator\n",
    "\n",
    "Video: https://youtu.be/btf2V4oyYaE"
   ]
  },
  {
   "cell_type": "markdown",
   "metadata": {},
   "source": [
    "Skills:\n",
    "- you can put functions in dict\n",
    "- you can use lambda function in it:\n",
    "    - operation = {'+': lambda a, b: a+b}\n",
    "- you can also use  operator:\n",
    "    - operator.add, operator.sub, operator.mul, operator.truediv"
   ]
  },
  {
   "cell_type": "code",
   "execution_count": null,
   "metadata": {},
   "outputs": [],
   "source": [
    "# Code Review Notes:\n",
    "# Issue 1: No validation - KeyError if op not in dict, ValueError if not numbers\n",
    "# Issue 2: Division by zero not handled\n",
    "# Issue 3: isnumber() fails for negative numbers (e.g., '-5')\n",
    "# Issue 4: Logic error in longer version - break in wrong place\n",
    "\n",
    "import operator\n",
    "\n",
    "def prefix_cal(to_solve):\n",
    "    operation = {\n",
    "        '+': operator.add,\n",
    "        '-': operator.sub,\n",
    "        '*': operator.mul,\n",
    "        '/': operator.truediv,  # No zero division check\n",
    "        }\n",
    "    op, num1, num2 = to_solve.split()  # No validation\n",
    "    return operation[op](float(num1), float(num2))\n",
    "\n",
    "print(prefix_cal('+ 2 3'))\n",
    "\n",
    "# a longer prefix calculator\n",
    "def prefix_cal(to_solve):\n",
    "    operation = {\n",
    "        '+': operator.add,\n",
    "        '-': operator.sub,\n",
    "        '*': operator.mul,\n",
    "        '/': operator.truediv,\n",
    "        }\n",
    "    \n",
    "    def isnumber(num):\n",
    "        return num.replace('.', '').isnumeric()  # Fails for negative numbers like '-5'\n",
    "\n",
    "    items = to_solve.split()\n",
    "    while len(items) > 1:\n",
    "        for i in range(len(items) - 2):\n",
    "            op, n1, n2 = items[i:i+3]\n",
    "            if op in operation and isnumber(n1) and isnumber(n2):\n",
    "                break  # Issue: This only breaks inner for loop, not intended flow\n",
    "            items = items[:i] + [str(operation[op](float(n1), float(n2)))]+items[i+3:]\n",
    "    return float(items[0])\n",
    "\n",
    "print(prefix_cal('/ * + 2 4 3 + 1 5'))\n"
   ]
  },
  {
   "cell_type": "markdown",
   "metadata": {},
   "source": [
    "## Exercise 27: Custom Password Generator\n",
    "\n",
    "Video: https://youtu.be/S6wIHzRhj8s"
   ]
  },
  {
   "cell_type": "markdown",
   "metadata": {},
   "source": [
    "Skills:\n",
    "- random.choice() can pick elements from list, string, etc.\n"
   ]
  },
  {
   "cell_type": "code",
   "execution_count": null,
   "metadata": {},
   "outputs": [],
   "source": [
    "import random\n",
    "\n",
    "def set_password_source(source):\n",
    "    def password_gen(length): #closure function, will remember 'source'\n",
    "        output = []\n",
    "        for i in range(length):\n",
    "            output.append(random.choice(source))\n",
    "        return ''.join(output)\n",
    "    return password_gen # return password_gen back to set_password_source\n",
    "\n",
    "my_password_gen = set_password_source('0123456789abcdefghij')\n",
    "print(my_password_gen(10))"
   ]
  },
  {
   "cell_type": "markdown",
   "metadata": {},
   "source": [
    "## Exercise 28: Output Absolute Values of a List of Numbers"
   ]
  },
  {
   "cell_type": "markdown",
   "metadata": {},
   "source": [
    "Skills:\n",
    "- list generation:\n",
    "    - [ value or equation for value in container ]\n",
    "    - [x ** 2 for x in range(10)]\n",
    "    - [abs(x) for x in numbers]"
   ]
  },
  {
   "cell_type": "code",
   "execution_count": null,
   "metadata": {},
   "outputs": [],
   "source": [
    "def abs_numbers(numbers):\n",
    "    # return [abs(x) for x in numbers]\n",
    "    return list(map(abs, numbers))\n",
    "\n",
    "print(abs_numbers([1, -2, 3, -4, 5]))"
   ]
  },
  {
   "cell_type": "markdown",
   "metadata": {},
   "source": [
    "## Exercise 29: Sum Only Numbers in Data\n",
    "\n",
    "Video: https://youtu.be/GXK_RHEdv_s"
   ]
  },
  {
   "cell_type": "markdown",
   "metadata": {},
   "source": [
    "Skills:\n",
    "- [ value or equation for value in container if condition]\n",
    "- easy to read:\n",
    "    - [x ** 2\n",
    "       for x in range(10)\n",
    "       if x % 2 == 0]\n",
    "- can also use filter(function, container) to do the filter"
   ]
  },
  {
   "cell_type": "code",
   "execution_count": null,
   "metadata": {},
   "outputs": [],
   "source": [
    "def sum_numbers(data):\n",
    "    return sum([int(d)\n",
    "                for d in data.split()\n",
    "                if d.isdigit()])\n",
    "\n",
    "print(sum_numbers('10 abc 20 de44 30 55fg 40'))"
   ]
  },
  {
   "cell_type": "markdown",
   "metadata": {},
   "source": [
    "## Exercise 30: Flatten 2D List Using Nested List Comprehension\n",
    " \n",
    "Video: https://youtu.be/gYG9qZyIu0g"
   ]
  },
  {
   "cell_type": "markdown",
   "metadata": {},
   "source": [
    "Skills:\n",
    "- cleaner format that generating list with for loop\n"
   ]
  },
  {
   "cell_type": "code",
   "execution_count": null,
   "metadata": {},
   "outputs": [],
   "source": [
    "def flatten(data):\n",
    "    return [sub_element\n",
    "            for element in data\n",
    "                for sub_element in element]\n",
    "\n",
    "print(flatten([[1,2], [3,4]]))"
   ]
  },
  {
   "cell_type": "markdown",
   "metadata": {},
   "source": [
    "## Exercise 31: Pig Latin - File Translator\n",
    " \n",
    "Video: https://youtu.be/0ui1zWaDSSU"
   ]
  },
  {
   "cell_type": "markdown",
   "metadata": {},
   "source": [
    "Skiils:\n",
    " - pl word function is from exercise 05.\n",
    " - use generation of list to explor each word in file, and replacing them to pig latin"
   ]
  },
  {
   "cell_type": "code",
   "execution_count": null,
   "metadata": {},
   "outputs": [],
   "source": [
    "def pl_word(word):\n",
    "    if word[0] in 'aeiou':\n",
    "        return f'{word}way'\n",
    "    return f'{word[1:]}{word[0]}ay'\n",
    "\n",
    "def pl_file(filename):\n",
    "    with open(filename, 'r') as f:\n",
    "        return ' '.join([pl_word(word.lower().replace('.', ''))\n",
    "                         for line in f\n",
    "                         for word in line.split()])\n",
    "\n",
    "print(pl_file(r'.\\data\\text2.txt'))"
   ]
  },
  {
   "cell_type": "markdown",
   "metadata": {},
   "source": [
    "## Exercise 32: Flip a dict's keys and values\n",
    " \n",
    "Video: https://youtu.be/DDAYafF7KmQ"
   ]
  },
  {
   "cell_type": "markdown",
   "metadata": {},
   "source": [
    "Skills:\n",
    " - set generation: {equation for key in container}\n",
    " - dict generation: {equation, equation for key, key in container}\n",
    "     - if coping from other dict, you could use dict.items()"
   ]
  },
  {
   "cell_type": "code",
   "execution_count": null,
   "metadata": {},
   "outputs": [],
   "source": [
    "def flipped_dict(input_dict):\n",
    "    return {value: key\n",
    "            for key, value in input_dict.items()}\n",
    "    #return {input_dict[key]: key for key in input_dict}\n",
    "\n",
    "print(flipped_dict({'a': 1, 'b': 2, 'c': 3}))"
   ]
  },
  {
   "cell_type": "markdown",
   "metadata": {},
   "source": [
    "## Exercise 33: Extract login account information (generator version)\n"
   ]
  },
  {
   "cell_type": "code",
   "execution_count": null,
   "metadata": {},
   "outputs": [],
   "source": [
    "def passwd_to_dict_2(filename):\n",
    "    with open(filename) as f:\n",
    "        d = {words[0]: words[2]\n",
    "             for words\n",
    "             in [line.split(':') for line in f]}\n",
    "    return d\n",
    "\n",
    "print(passwd_to_dict_2(r'.\\data\\passwd.cfg'))"
   ]
  },
  {
   "cell_type": "markdown",
   "metadata": {},
   "source": [
    "## Exercise 34: Filter words in a file based on specific conditions"
   ]
  },
  {
   "cell_type": "markdown",
   "metadata": {},
   "source": [
    "Skills:\n",
    " - use set() to get the no-repeated symbols\n",
    " - use len(word_set & vowles) to get the count of vowels in the words"
   ]
  },
  {
   "cell_type": "code",
   "execution_count": null,
   "metadata": {},
   "outputs": [],
   "source": [
    "def word_filter(filename):\n",
    "    vowels = {'a', 'e', 'i', 'o', 'u'}\n",
    "    with open(filename, 'r') as f:\n",
    "        words = ([word.replace('.', '')\n",
    "                  for line in f\n",
    "                      for word in line.split()\n",
    "                      if len(set(word) & vowels) >= 3])\n",
    "    return words\n",
    "\n",
    "print(word_filter(r'.\\data\\text2.txt'))"
   ]
  },
  {
   "cell_type": "markdown",
   "metadata": {},
   "source": [
    "## Exercise 35: Hebrew Number Cipher (Part I + Part II)\n",
    " \n",
    "Videos:\n",
    "* https://youtu.be/aBqi0HhBdiA\n",
    "* https://youtu.be/852LFBEK0BI"
   ]
  },
  {
   "cell_type": "markdown",
   "metadata": {},
   "source": [
    "Skills:\n",
    " - string.ascii_lowercase and string.ascii_uppercase\n",
    " - use enumerate() can get the number of their correspondent numbers (use list to tranfrom and print)"
   ]
  },
  {
   "cell_type": "code",
   "execution_count": null,
   "metadata": {},
   "outputs": [],
   "source": [
    "import string\n",
    "\n",
    "def gematria_dict():\n",
    "    return {char: index\n",
    "            for index, char\n",
    "            in enumerate(string.ascii_lowercase, 1)}\n",
    "\n",
    "GEMATRIA = gematria_dict()\n",
    "\n",
    "def gematria_value(word):\n",
    "    return sum(GEMATRIA[char]\n",
    "               for char in word.lower()\n",
    "               if char in GEMATRIA)\n",
    "\n",
    "def gematria_equal_words(input_word, filename):\n",
    "    input_value = gematria_value(input_word)\n",
    "    with open(filename, 'r', encoding='utf-8') as f:\n",
    "        return [word\n",
    "                for line in f\n",
    "                for word in line.lower().split()\n",
    "                if input_value == gematria_value(word)]\n",
    "\n",
    "print(gematria_equal_words('programming', r'.\\data\\book.txt'))\n",
    "\n",
    "print(gematria_value('programming'))\n",
    "print(gematria_value('professor'))\n",
    "print(gematria_value('explanation'))"
   ]
  }
 ],
 "metadata": {
  "language_info": {
   "name": "python"
  }
 },
 "nbformat": 4,
 "nbformat_minor": 2
}
