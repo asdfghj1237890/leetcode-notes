{
 "cells": [
  {
   "cell_type": "markdown",
   "metadata": {},
   "source": [
    "## Exercise 01  Warm-up----Number Guessing Game\n",
    "\n",
    "Video:https://youtu.be/KDMuGX9QtNI"
   ]
  },
  {
   "cell_type": "markdown",
   "metadata": {},
   "source": [
    "Skills:\n",
    "- use input() to get user input\n",
    "- use int() to convert user input to integer\n",
    "- use random.randint() to generate a random integer\n",
    "    - random.randint(0, 30) will random a number between 0 and 29\n",
    "- use while loop to keep asking and break when the user guess the correct number\n",
    "- use isdigit() to check if the user input is a digit\n",
    "    - use str.replace() to remove the dot when the user input is a float"
   ]
  },
  {
   "cell_type": "code",
   "execution_count": null,
   "metadata": {},
   "outputs": [],
   "source": [
    "import random\n",
    "\n",
    "def guessing_game():\n",
    "    answer = random.randint(0, 100)\n",
    " \n",
    "    while True:\n",
    "        user_guess = int(input('Guess a number (0-99): '))\n",
    "        if user_guess.isdigit():\n",
    "            user_guess = int(user_guess)\n",
    "        else:\n",
    "            print('Please enter a valid number')\n",
    "            continue\n",
    "        \n",
    "        if user_guess == answer:\n",
    "            print('Correct! The answer is', answer)\n",
    "            break\n",
    "        elif user_guess > answer:\n",
    "            print('Too high, try again')\n",
    "        else:\n",
    "            print('Too low, try again')\n",
    "\n",
    "guessing_game()"
   ]
  },
  {
   "cell_type": "markdown",
   "metadata": {},
   "source": [
    "## Exercise 02  Sum a Series of Numbers\n",
    "\n",
    "Video: https://youtu.be/EDeZwyWfunM"
   ]
  },
  {
   "cell_type": "markdown",
   "metadata": {},
   "source": [
    "Skills:\n",
    "- use *args to accept a series of elements to a tuple and use for loop to iterate over the tuple\n",
    "- sum have a second parameter to set the initial value of the sum\n",
    "    - sum(numbers, 10) will set the initial value of the sum to 10"
   ]
  },
  {
   "cell_type": "code",
   "execution_count": null,
   "metadata": {},
   "outputs": [],
   "source": [
    "def my_sum(*numbers):\n",
    "    output = 0\n",
    "    for n in numbers:\n",
    "        output += n\n",
    "    return output\n",
    "\n",
    "print(my_sum(10, 20, 30, 40, 50))"
   ]
  },
  {
   "cell_type": "markdown",
   "metadata": {},
   "source": [
    "## Exercise 03  Calculate Average Running Time\n",
    "\n",
    "Video: https://youtu.be/Vajtow2DG3g"
   ]
  },
  {
   "cell_type": "markdown",
   "metadata": {},
   "source": [
    "Skills:\n",
    "- use try except to handle the error when the user input is not a float\n",
    "- in Python 3.8, we have assignment expression to assign value to a variable\n",
    "    - variable := value will assign value to variable\n",
    "    - in the meantime, the equation will also return the value of the variable\n",
    "    - so we can edit the condition to while run_time := input('Enter 10km run time: (Press Enter to finish) ')\n",
    "    - but be careful to use := as it is changing the value of variable while returning the value."
   ]
  },
  {
   "cell_type": "code",
   "execution_count": null,
   "metadata": {},
   "outputs": [],
   "source": [
    "def run_timing():\n",
    "    total_time = 0.0\n",
    "    number_of_runs = 0\n",
    " \n",
    "    while True:\n",
    "        run_time = input('Enter 10km run time: (Press Enter to finish) ')\n",
    "        if run_time == '':\n",
    "            break\n",
    "        try:\n",
    "            run_time_value = float(run_time)\n",
    "            total_time += run_time_value\n",
    "            number_of_runs += 1\n",
    "        except Exception as e:\n",
    "            print('Error:', e)\n",
    " \n",
    "    if number_of_runs > 0:\n",
    "        average_time = (total_time / number_of_runs)\n",
    "    else:\n",
    "        average_time = 0.0\n",
    " \n",
    "    print('Average time for', number_of_runs, 'runs is', average_time, 'minutes')\n",
    "\n",
    "run_timing()"
   ]
  },
  {
   "cell_type": "markdown",
   "metadata": {},
   "source": [
    "## Exercise 04  Convert Hexadecimal to Decimal"
   ]
  },
  {
   "cell_type": "markdown",
   "metadata": {},
   "source": [
    "Skills:\n",
    "- use reversed() to reverse the string\n",
    "- use enumerate() to get the index and value of the string\n",
    "- use ord() to get the ASCII value of the character\n",
    "- use isdigit() to check if the character is a digit\n",
    "- use upper() to convert the character to uppercase\n",
    "- use int() to convert the character to integer\n",
    "    - it can also directly convert the integer string to hex\n",
    "    - int('10', 16) will convert 10 to 16"
   ]
  },
  {
   "cell_type": "code",
   "execution_count": null,
   "metadata": {},
   "outputs": [],
   "source": [
    "def hex_to_dec():\n",
    "    hexnum = input('Enter hexadecimal number: ')\n",
    "    decnum = 0\n",
    " \n",
    "    for power, digit in enumerate(reversed(hexnum)):\n",
    "        if digit.isdigit():\n",
    "            digit_num = int(digit)\n",
    "        else:\n",
    "            digit_num = ord(digit.upper()) - ord('A') + 10\n",
    "        decnum += digit_num * (16 ** power)\n",
    " \n",
    "    print('Decimal result:', decnum)\n",
    "\n",
    "hex_to_dec()"
   ]
  }
 ],
 "metadata": {
  "kernelspec": {
   "display_name": "base",
   "language": "python",
   "name": "python3"
  },
  "language_info": {
   "codemirror_mode": {
    "name": "ipython",
    "version": 3
   },
   "file_extension": ".py",
   "mimetype": "text/x-python",
   "name": "python",
   "nbconvert_exporter": "python",
   "pygments_lexer": "ipython3",
   "version": "3.6.9"
  }
 },
 "nbformat": 4,
 "nbformat_minor": 2
}
