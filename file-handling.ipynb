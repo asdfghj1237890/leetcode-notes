{
 "cells": [
  {
   "cell_type": "markdown",
   "metadata": {},
   "source": [
    "## Exercise 18: Read the Last Line of a File\n",
    "\n",
    "Video: https://youtu.be/GC5yQg2odqI"
   ]
  },
  {
   "cell_type": "markdown",
   "metadata": {},
   "source": [
    "Skills:\n",
    "- use open() to open the file, 'r' as read mode\n",
    "    - remember to close the file after reading\n",
    "- use readlines() to read all lines from the file\n",
    "    - this will return a list of lines\n",
    "    - will cost more memory\n",
    "    - can use readline() to read one line at a time\n",
    "        - while line:= f.readline(): last_line = line\n",
    "- as open() is supporting iterator protocol, we can use for loop to read the file\n",
    "    - for line in f:\n",
    "        - pass\n",
    "    - this will read the file line by line\n",
    "    - will cost less memory\n",
    "    - will be more efficient\n",
    "    - remember this way is not supporting with f.readline(), as it will return a empty string when it reaches EOF.\n",
    "- with open() as f:\n",
    "    - this is a context manager, it will automatically close the file after the block is executed or any exception is raised\n",
    "    - no need to call f.close()\n",
    "    - this is more elegant and safer\n",
    "    \n",
    "\n"
   ]
  },
  {
   "cell_type": "code",
   "execution_count": null,
   "metadata": {},
   "outputs": [],
   "source": [
    "def read_final_line(filename):\n",
    "    f = open(filename, 'r')\n",
    "    for line in f:\n",
    "        pass\n",
    "    f.close()\n",
    "    return line\n",
    "\n",
    "print(read_final_line(r'.\\data\\login.log'))"
   ]
  },
  {
   "cell_type": "markdown",
   "metadata": {},
   "source": [
    "## Exercise 19: Extract Login Account Information\n",
    "\n",
    "Video: https://youtu.be/zktvhCOJPX0"
   ]
  },
  {
   "cell_type": "markdown",
   "metadata": {},
   "source": [
    "Skills:\n",
    "- you can import pprint to print the dictionary in a pretty way\n",
    "    - pprint.pprint(dict, sort_dicts=False)\n",
    "    - sort_dicts=False is to keep the original order of the dictionary\n",
    "    - sort_dicts=True is to sort the dictionary by the keys\n"
   ]
  },
  {
   "cell_type": "code",
   "execution_count": null,
   "metadata": {},
   "outputs": [],
   "source": [
    "def passwd_to_dict(filename):\n",
    "    users = {}\n",
    "    with open(filename) as f:\n",
    "        for line in f:\n",
    "            user_info = line.split(':')\n",
    "            users.update({user_info[0]: user_info[2]})\n",
    "    return users\n",
    "\n",
    "print(passwd_to_dict(r'.\\data\\passwd.cfg'))"
   ]
  },
  {
   "cell_type": "markdown",
   "metadata": {},
   "source": [
    "## Exercise 20: Count Characters, Words and Lines in a File\n",
    "\n",
    "Video: https://youtu.be/YCrV2_wO4Cc"
   ]
  },
  {
   "cell_type": "code",
   "execution_count": null,
   "metadata": {},
   "outputs": [],
   "source": [
    "def wordcount(filename):\n",
    "    result = {\n",
    "        'Characters': 0,\n",
    "        'Words': 0,\n",
    "        'Unique words': 0,\n",
    "        'Lines': 0,\n",
    "        }\n",
    "    unique_words = set()\n",
    " \n",
    "    with open(filename, 'r') as f:\n",
    "        for line in f:\n",
    "            words = line.split()\n",
    "            result['Lines'] += 1\n",
    "            result['Characters'] += len(line)\n",
    "            result['Words'] += len(words)\n",
    "            unique_words.update(words)\n",
    " \n",
    "        result['Unique words'] = len(unique_words)\n",
    " \n",
    "    for key, value in result.items():\n",
    "        print(f'{key}: {value}')\n",
    "\n",
    "wordcount(r'.\\data\\text.txt')"
   ]
  },
  {
   "cell_type": "markdown",
   "metadata": {},
   "source": [
    "## Exercise 21: Find the Longest Word in a File"
   ]
  },
  {
   "cell_type": "markdown",
   "metadata": {},
   "source": [
    "Skills:\n",
    "- you can also use set()\n",
    "    - collect all the words in it\n",
    "    - sorted it and return the last one\n",
    "        - sorted(set(words))[-1]"
   ]
  },
  {
   "cell_type": "code",
   "execution_count": null,
   "metadata": {},
   "outputs": [],
   "source": [
    "def find_longest_word(filename):\n",
    "    longest = ''\n",
    "    with open(filename, 'r') as f:\n",
    "        for line in f:\n",
    "            for word in line.replace('.', '').split():\n",
    "                if len(word) > len(longest):\n",
    "                    longest = word\n",
    "    return longest\n",
    "\n",
    "print(find_longest_word(r'.\\data\\text2.txt'))"
   ]
  },
  {
   "cell_type": "markdown",
   "metadata": {},
   "source": [
    "## Exercise 22: Reading and Writing CSV Files\n",
    "\n",
    "Video: https://youtu.be/bSA1llDhX1I"
   ]
  },
  {
   "cell_type": "markdown",
   "metadata": {},
   "source": [
    "Skills:\n",
    "- delimiter \":\", \"\\t\", \",\"\n",
    "- csv.writer() to create a csv object\n",
    "- csv.reader() to read the csv file\n",
    "- csv.writer.writerow() to write a row to the csv file\n",
    "- csv.writer.writerows() to write multiple rows to the csv file\n",
    "- newline char:\n",
    "    - Unix & old Mac: \\n\n",
    "    - MacOS: \\r\n",
    "    - Windows: \\r\\n\n",
    "- lineterminator can be defaultly set to \"\\n\"\n",
    "- also in open() function, we can set newline=\"\\n\" to force using \"\\n\" to open file\n",
    "    - newline=None: use the default newline character from system\n",
    "    - newline=\"\": keep the original newline character from file\n"
   ]
  },
  {
   "cell_type": "code",
   "execution_count": null,
   "metadata": {},
   "outputs": [],
   "source": [
    "import csv\n",
    "\n",
    "def passwd_to_csv(passwd_filename, csv_filename):\n",
    "    with open(passwd_filename, 'r') as f_read, \\\n",
    "            open(csv_filename, 'w', newline='') as f_write:\n",
    "        csv_reader = csv.reader(f_read, delimiter=':')\n",
    "        csv_writer = csv.writer(f_write, delimiter='\\t', lineterminator='\\n')\n",
    "        for line in csv_reader:\n",
    "            csv_writer.writerow([line[0], line[2]])\n",
    "\n",
    "passwd_to_csv(r'.\\data\\passwd.cfg', r'.\\data\\passwd.csv')"
   ]
  },
  {
   "cell_type": "markdown",
   "metadata": {},
   "source": [
    "## Exercise 23: Reading JSON Files\n",
    "\n",
    "Video: https://youtu.be/0jHBF9-V9G0"
   ]
  },
  {
   "cell_type": "markdown",
   "metadata": {},
   "source": [
    "Skills:\n",
    "- json.load() to load a json file\n",
    "- json.loads() to load a json string\n",
    "- defaultdict(list) to create a defaultdict object whom the default value is a list"
   ]
  },
  {
   "cell_type": "code",
   "execution_count": null,
   "metadata": {},
   "outputs": [],
   "source": [
    "import json\n",
    "from collections import defaultdict\n",
    "\n",
    "def print_scores(filename):\n",
    "    with open(filename) as json_file:\n",
    "        record = json.load(json_file)\n",
    "        result = defaultdict(list)\n",
    " \n",
    "        print('Class:', record['class'])\n",
    "        for record in record['score']:\n",
    "            for subject, score in record.items():\n",
    "                result[subject].append(score)\n",
    " \n",
    "        for subject, scores in result.items():\n",
    "            print('Subject:', subject)\n",
    "            print('\\tHighest score:', max(scores))\n",
    "            print('\\tLowest score:', min(scores))\n",
    "            print('\\tAverage:', sum(scores) / len(scores))\n",
    "\n",
    "print_scores(r'.\\data\\score.json')"
   ]
  },
  {
   "cell_type": "markdown",
   "metadata": {},
   "source": [
    "## Exercise 24: Batch File Reading"
   ]
  },
  {
   "cell_type": "markdown",
   "metadata": {},
   "source": [
    "Skills:\n",
    "- os.listdir() : list all file in specific folder as a list\n",
    "- string.endswith() to check the endstring of a string\n",
    "- os.path.join() to combine the path and filename\n",
    "- use pathlib can also get the path with filename\n",
    "    - p = pathlib.Path('C:\\data\\scores') creates Posixpath object\n",
    "    - explore Posixpath object can get path with filename\n",
    "       - p.iterdir()\n",
    "- use glob:\n",
    "    - glob.glob(r'C:\\data\\scores\\*.json') can get the list of json filenames"
   ]
  },
  {
   "cell_type": "code",
   "execution_count": null,
   "metadata": {},
   "outputs": [],
   "source": [
    "import os, json\n",
    "from collections import defaultdict\n",
    "\n",
    "def print_scores(filename):\n",
    "    with open(filename) as json_file:\n",
    "        record = json.load(json_file)\n",
    "        result = defaultdict(list)\n",
    " \n",
    "        print('Class:', record['class'])\n",
    "        for record in record['score']:\n",
    "            for subject, score in record.items():\n",
    "                result[subject].append(score)\n",
    " \n",
    "        for subject, scores in result.items():\n",
    "            print('Subject:', subject)\n",
    "            print('\\tHighest score:', max(scores))\n",
    "            print('\\tLowest score:', min(scores))\n",
    "            print('\\tAverage:', sum(scores) / len(scores))\n",
    "\n",
    "def print_dir_scores(dirname):\n",
    "    for filename in os.listdir(dirname):\n",
    "        if filename.endswith('.json'):\n",
    "            print('Reading file: ', filename)\n",
    "            print_scores(os.path.join(dirname, filename))\n",
    "\n",
    "print_dir_scores(r'.\\data\\scores')"
   ]
  }
 ],
 "metadata": {
  "language_info": {
   "name": "python"
  }
 },
 "nbformat": 4,
 "nbformat_minor": 2
}
